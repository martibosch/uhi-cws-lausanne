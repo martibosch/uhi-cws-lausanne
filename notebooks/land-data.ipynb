{
 "cells": [
  {
   "cell_type": "code",
   "execution_count": null,
   "id": "0",
   "metadata": {},
   "outputs": [],
   "source": [
    "import shutil\n",
    "import tempfile\n",
    "\n",
    "import contextily as cx\n",
    "import geopandas as gpd\n",
    "import matplotlib.pyplot as plt\n",
    "import rasterio as rio\n",
    "import swisstopopy\n",
    "from rasterio import plot"
   ]
  },
  {
   "cell_type": "code",
   "execution_count": null,
   "id": "1",
   "metadata": {
    "tags": [
     "parameters"
    ]
   },
   "outputs": [],
   "source": [
    "# spatial extent\n",
    "agglom_extent_filepath = \"../data/raw/agglom-extent.gpkg\"\n",
    "\n",
    "# buffer distance around the extent\n",
    "buffer_dist = 500\n",
    "\n",
    "# to download interim data and reuse it\n",
    "working_dir = \"land-working-dir\"\n",
    "\n",
    "# download parameters\n",
    "alti3d_res = 2\n",
    "\n",
    "# output files\n",
    "dst_buildings_gdf_filepath = \"../data/processed/buildings.gpkg\"\n",
    "dst_dem_filepath = \"../data/processed/dem.tif\"\n",
    "dst_tree_canopy_filepath = \"../data/processed/tree-canopy.tif\""
   ]
  },
  {
   "cell_type": "code",
   "execution_count": null,
   "id": "2",
   "metadata": {},
   "outputs": [],
   "source": [
    "region = gpd.read_file(agglom_extent_filepath)[\"geometry\"]\n",
    "region = gpd.GeoSeries(region.buffer(buffer_dist), crs=region.crs)"
   ]
  },
  {
   "cell_type": "code",
   "execution_count": null,
   "id": "3",
   "metadata": {},
   "outputs": [],
   "source": [
    "if working_dir is None:\n",
    "    # create temporary directory to store the downloaded files (some of them will be\n",
    "    # reused)\n",
    "    working_dir = tempfile.mkdtemp()\n",
    "pooch_retrieve_kwargs = {\"path\": working_dir}"
   ]
  },
  {
   "cell_type": "code",
   "execution_count": null,
   "id": "4",
   "metadata": {},
   "outputs": [],
   "source": [
    "bldg_gdf = swisstopopy.get_bldg_gdf(region, **pooch_retrieve_kwargs)\n",
    "bldg_gdf.to_file(dst_buildings_gdf_filepath)\n",
    "\n",
    "ax = bldg_gdf.plot(\"height\", legend=True)\n",
    "cx.add_basemap(ax, crs=bldg_gdf.crs)"
   ]
  },
  {
   "cell_type": "code",
   "execution_count": null,
   "id": "5",
   "metadata": {},
   "outputs": [],
   "source": [
    "swisstopopy.get_dem_raster(\n",
    "    region,\n",
    "    dst_dem_filepath,\n",
    "    alti3d_res=alti3d_res,\n",
    "    pooch_retrieve_kwargs=pooch_retrieve_kwargs,\n",
    ")\n",
    "\n",
    "fig, ax = plt.subplots()\n",
    "with rio.open(dst_dem_filepath) as src:\n",
    "    retted = plot.show(src, ax=ax)\n",
    "fig.colorbar(retted.get_images()[0], ax=ax)"
   ]
  },
  {
   "cell_type": "code",
   "execution_count": null,
   "id": "6",
   "metadata": {},
   "outputs": [],
   "source": [
    "swisstopopy.get_tree_canopy_raster(\n",
    "    region, dst_tree_canopy_filepath, pooch_retrieve_kwargs=pooch_retrieve_kwargs\n",
    ")"
   ]
  },
  {
   "cell_type": "code",
   "execution_count": null,
   "id": "7",
   "metadata": {},
   "outputs": [],
   "source": [
    "if working_dir.startswith(tempfile.gettempdir()):\n",
    "    # remove the temporary directory\n",
    "    shutil.rmtree(working_dir)"
   ]
  }
 ],
 "metadata": {
  "jupytext": {
   "cell_metadata_filter": "tags,-all"
  },
  "kernelspec": {
   "display_name": "Python (uhi-cws-lausanne)",
   "language": "python",
   "name": "uhi-cws-lausanne"
  }
 },
 "nbformat": 4,
 "nbformat_minor": 5
}

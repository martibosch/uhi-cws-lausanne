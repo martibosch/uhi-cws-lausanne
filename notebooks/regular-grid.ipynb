{
 "cells": [
  {
   "cell_type": "code",
   "execution_count": null,
   "id": "0",
   "metadata": {},
   "outputs": [],
   "source": [
    "import geopandas as gpd\n",
    "import pyregeon"
   ]
  },
  {
   "cell_type": "code",
   "execution_count": null,
   "id": "1",
   "metadata": {
    "tags": [
     "parameters"
    ]
   },
   "outputs": [],
   "source": [
    "agglom_extent_filepath = \"../data/raw/agglom-extent.gpkg\"\n",
    "\n",
    "dst_res = 100\n",
    "dst_filepath = \"../data/processed/regular-grid.gpkg\""
   ]
  },
  {
   "cell_type": "code",
   "execution_count": null,
   "id": "2",
   "metadata": {},
   "outputs": [],
   "source": [
    "agglom_extent_gdf = gpd.read_file(agglom_extent_filepath)\n",
    "# agglom_extent_geom = agglom_extent_gdf[\"geometry\"].iloc[0]"
   ]
  },
  {
   "cell_type": "code",
   "execution_count": null,
   "id": "3",
   "metadata": {},
   "outputs": [],
   "source": [
    "# use iloc to exclude the lake\n",
    "grid_gser = pyregeon.generate_regular_grid_gser(\n",
    "    agglom_extent_gdf[\"geometry\"].iloc[:1], dst_res, geometry_type=\"point\"\n",
    ")"
   ]
  },
  {
   "cell_type": "code",
   "execution_count": null,
   "id": "4",
   "metadata": {
    "lines_to_next_cell": 2
   },
   "outputs": [],
   "source": [
    "grid_gser.plot()"
   ]
  },
  {
   "cell_type": "code",
   "execution_count": null,
   "id": "5",
   "metadata": {},
   "outputs": [],
   "source": [
    "# dump to file\n",
    "grid_gser.to_file(dst_filepath)"
   ]
  }
 ],
 "metadata": {
  "jupytext": {
   "cell_metadata_filter": "tags,-all"
  },
  "kernelspec": {
   "display_name": "Python (uhi-cws-lausanne)",
   "language": "python",
   "name": "uhi-cws-lausanne"
  }
 },
 "nbformat": 4,
 "nbformat_minor": 5
}
